{
 "cells": [
  {
   "cell_type": "markdown",
   "id": "e60368ee",
   "metadata": {},
   "source": [
    "#  Pipeline Format: Projects                               \n",
    "***\n",
    "- Student Name: Tenicka Norwood\n",
    "- Program Pace: self paced \n",
    "- Scheduled Project Review time: 11/1/2022\n",
    "- Instructor name: Joe Comeaux\n",
    "- Blog post Url: "
   ]
  },
  {
   "cell_type": "markdown",
   "id": "20b77c7d",
   "metadata": {},
   "source": [
    "Add Title Image\n",
    "Add Link to image and give Image Credit"
   ]
  },
  {
   "cell_type": "markdown",
   "id": "37276b7e",
   "metadata": {},
   "source": [
    "# Business Understanding\n",
    "***"
   ]
  },
  {
   "cell_type": "markdown",
   "id": "4645ff74",
   "metadata": {},
   "source": [
    "CRISP-DM Suggests Business Understanding that connects insights to stakeholder needs"
   ]
  },
  {
   "cell_type": "markdown",
   "id": "e109d112",
   "metadata": {},
   "source": [
    "# Data Understanding\n",
    "***\n",
    "\n",
    "Identify which pieces of data are useful to determine business insights"
   ]
  },
  {
   "cell_type": "markdown",
   "id": "21787416",
   "metadata": {},
   "source": [
    "# Method \n",
    "***\n",
    "Stepwise method that aligns to CRISP-DM Best Practices"
   ]
  },
  {
   "cell_type": "markdown",
   "id": "af330f0c",
   "metadata": {},
   "source": [
    "# Data Preparation\n",
    "***\n",
    "\n",
    "Leverage libraries and visualization packages to find useful insights from data. Simple is best."
   ]
  },
  {
   "cell_type": "markdown",
   "id": "a3032d98",
   "metadata": {},
   "source": [
    "# Exploratory Data Analysis\n",
    "***\n",
    "\n",
    "Explore data to find a minimum of three insights to share with stakeholders."
   ]
  },
  {
   "cell_type": "markdown",
   "id": "97866440",
   "metadata": {},
   "source": [
    "# Conclusions\n",
    "***"
   ]
  },
  {
   "cell_type": "markdown",
   "id": "2c60c5a8",
   "metadata": {},
   "source": [
    "Make recommendations to stakeholders from conclusions drawn during exploratory data analaysis."
   ]
  },
  {
   "cell_type": "markdown",
   "id": "318591e0",
   "metadata": {},
   "source": [
    "# Next Steps"
   ]
  },
  {
   "cell_type": "markdown",
   "id": "358405dc",
   "metadata": {},
   "source": [
    "Describe the next iteration of the research cycle. "
   ]
  }
 ],
 "metadata": {
  "kernelspec": {
   "display_name": "Python (learn-env)",
   "language": "python",
   "name": "learn-env"
  },
  "language_info": {
   "codemirror_mode": {
    "name": "ipython",
    "version": 3
   },
   "file_extension": ".py",
   "mimetype": "text/x-python",
   "name": "python",
   "nbconvert_exporter": "python",
   "pygments_lexer": "ipython3",
   "version": "3.8.5"
  },
  "toc": {
   "base_numbering": 1,
   "nav_menu": {},
   "number_sections": true,
   "sideBar": true,
   "skip_h1_title": false,
   "title_cell": "Table of Contents",
   "title_sidebar": "Contents",
   "toc_cell": false,
   "toc_position": {
    "height": "calc(100% - 180px)",
    "left": "10px",
    "top": "150px",
    "width": "164.988px"
   },
   "toc_section_display": true,
   "toc_window_display": true
  },
  "varInspector": {
   "cols": {
    "lenName": 16,
    "lenType": 16,
    "lenVar": 40
   },
   "kernels_config": {
    "python": {
     "delete_cmd_postfix": "",
     "delete_cmd_prefix": "del ",
     "library": "var_list.py",
     "varRefreshCmd": "print(var_dic_list())"
    },
    "r": {
     "delete_cmd_postfix": ") ",
     "delete_cmd_prefix": "rm(",
     "library": "var_list.r",
     "varRefreshCmd": "cat(var_dic_list()) "
    }
   },
   "types_to_exclude": [
    "module",
    "function",
    "builtin_function_or_method",
    "instance",
    "_Feature"
   ],
   "window_display": false
  }
 },
 "nbformat": 4,
 "nbformat_minor": 5
}

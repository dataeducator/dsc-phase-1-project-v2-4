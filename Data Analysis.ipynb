{
 "cells": [
  {
   "cell_type": "markdown",
   "id": "ee442046",
   "metadata": {},
   "source": [
    "#  Data Analysis: Microsoft Movie Studios Viability Analysis                                      \n",
    "***\n",
    "- Student Name: Tenicka Norwood\n",
    "- Program Pace: self paced \n",
    "- Scheduled Project Review time: 10/26/2022 \n",
    "- Instructor name: Joe Comeaux\n",
    "- Blog post Url: "
   ]
  },
  {
   "cell_type": "markdown",
   "id": "568861fb",
   "metadata": {},
   "source": [
    "# Exploratory Data Analysis Q1"
   ]
  },
  {
   "cell_type": "markdown",
   "id": "19170ccf",
   "metadata": {},
   "source": [
    "## When is the best time of year to release a movie?"
   ]
  },
  {
   "cell_type": "code",
   "execution_count": null,
   "id": "d6a3e32a",
   "metadata": {
    "scrolled": false
   },
   "outputs": [],
   "source": [
    "## Investigate the relationship between release_month and worldwide gross profit for the top 100 grossing films\n",
    "# Set up theme\n",
    "plt.style.use('fivethirtyeight')\n",
    "# Set up Parameters\n",
    "# Create plot variables\n",
    "values = np.array(budgets_by_month_df.month_name)\n",
    "labels = np.array(budgets_by_month_df.worldwide_profit)/10000000\n",
    "clrs = ['grey' if (x != max(values)) else 'blue' for x in values]\n",
    "\n",
    "# Set up plot figure size\n",
    "plt.figure(figsize =(14,10))\n",
    "ax = sns.barplot(x = values, y = labels, palette = clrs)\n",
    "ax.set_title(\"Figure 6.1: Worldwide Profit vs Release Month for the Top 100 Grossing films\", weight = 'bold').set_fontsize('16')\n",
    "ax.set_xlabel(\"Release Month\", fontsize = '14', weight = 'bold')\n",
    "ax.set_ylabel(\"World Wide Profit ($10 M)\", fontsize = '14', weight = 'bold');\n",
    "for bar in ax.patches:\n",
    "    if bar.get_height() < 5:\n",
    "        bar.set_color('grey')\n",
    "    else:\n",
    "        bar.set_color('blue')"
   ]
  },
  {
   "cell_type": "code",
   "execution_count": null,
   "id": "8f29d41b",
   "metadata": {},
   "outputs": [],
   "source": [
    "# Print out the name of the column and the Pearson correlation of \n",
    "# the column most positively correlated with ROI \n",
    "correlation_values = filtered_movie_ROI_df.corr()[\"ROI\"].sort_values()\n",
    "print(\"The column with the most positive correlation with ROI is worldwide profit\")"
   ]
  },
  {
   "cell_type": "code",
   "execution_count": null,
   "id": "51e0e73f",
   "metadata": {},
   "outputs": [],
   "source": [
    "# Find correlations in filtered_movie_ROI dataframe\n",
    "filtered_movie_ROI_df.corr().style.background_gradient(cmap=\"Blues\")"
   ]
  },
  {
   "cell_type": "code",
   "execution_count": null,
   "id": "8a369233",
   "metadata": {},
   "outputs": [],
   "source": [
    "# Rough filter of prior correlation investigating dataframe lower limit\n",
    "new_filtered_movie_ROI_df = filtered_movie_ROI_df[filtered_movie_ROI_df[\"production_budget\"] >= 175000000]\n",
    "new_filtered_movie_ROI_df.describe()"
   ]
  },
  {
   "cell_type": "code",
   "execution_count": null,
   "id": "46cad1fa",
   "metadata": {},
   "outputs": [],
   "source": [
    "# Look at the filtered_movie_ROI dataframe\n",
    "filtered_movie_ROI_df.info()"
   ]
  },
  {
   "cell_type": "code",
   "execution_count": null,
   "id": "ce8d1424",
   "metadata": {},
   "outputs": [],
   "source": [
    "# Rough filter of prior correlation investigating dataframe upper limit\n",
    "new_filtered_movie_ROI_df = new_filtered_movie_ROI_df[new_filtered_movie_ROI_df[\"production_budget\"] <= 250000000]\n",
    "new_filtered_movie_ROI_df.info()"
   ]
  },
  {
   "cell_type": "code",
   "execution_count": null,
   "id": "b412b399",
   "metadata": {},
   "outputs": [],
   "source": [
    "new_filtered_movie_ROI_df.head()"
   ]
  },
  {
   "cell_type": "code",
   "execution_count": null,
   "id": "9fe71ff9",
   "metadata": {},
   "outputs": [],
   "source": [
    "# Set up theme\n",
    "sns.set_theme(style=\"darkgrid\", palette=\"Set2\")\n",
    "x_values = new_filtered_movie_ROI_df.production_budget\n",
    "y_values = new_filtered_movie_ROI_df.worldwide_gross\n",
    "\n",
    "# Set up plot\n",
    "fig, ax = plt.subplots(figsize = (15, 10))\n",
    "ax.scatter(x = x_values, y = \"worldwide_gross\", data = new_filtered_movie_ROI_df.head(100), alpha=0.7, color=\"blue\")\n",
    "ax.set_title(\"Figure 6.2: Worldwide Gross Revenue vs Production Budget\", weight = 'bold').set_fontsize('16')\n",
    "ax.set_xlabel(\"Production Budget: (Millions of Dollars)\", fontsize = 14, weight = 'bold')\n",
    "ax.set_ylabel(\"Worldwide Gross Revenue: (Millions of Dollars)\", fontsize = 14, weight = 'bold');\n",
    "ax.ticklabel_format(style = \"plain\")\n",
    "ax.xaxis.set_major_formatter(ticker.FuncFormatter(lambda x, pos:'{:.4g}'.format(x/100000000)))\n",
    "ax.yaxis.set_major_formatter(ticker.FuncFormatter(lambda x, pos:'{:.4g}'.format(x/100000000)))"
   ]
  },
  {
   "cell_type": "code",
   "execution_count": null,
   "id": "8f09b76d",
   "metadata": {
    "scrolled": false
   },
   "outputs": [],
   "source": [
    "# Plot the relationship between production budget and ROI for films with production budgets between $175 and $250 Million.\n",
    "# Set up theme\n",
    "#sns.set_theme(style=\"darkgrid\", palette=\"Set2\")\n",
    "\n",
    "# Create plot variables\n",
    "data = new_filtered_movie_ROI_df.head(100)\n",
    "values = np.array(data.ROI)\n",
    "labels = np.array(data.production_budget)/1000000\n",
    "clrs = ['grey' if (x != max(values)) else 'blue' for x in values]\n",
    "\n",
    "# Set up plot figure size\n",
    "plt.figure(figsize =(14,10))\n",
    "ax = sns.boxplot(x = labels, y = values, palette = clrs)\n",
    "ax.set_title(\"Figure 6.3: ROI vs Production Budget\", weight = 'bold').set_fontsize('16')\n",
    "ax.set_xlabel(\"Production Budget: (Millions of Dollars)\", fontsize = '14', weight = 'bold')\n",
    "ax.set_ylabel(\"ROI (% return on production budget)\", fontsize = '14', weight = 'bold');"
   ]
  },
  {
   "cell_type": "markdown",
   "id": "f2a020b3",
   "metadata": {},
   "source": [
    "# Exploratory Data Analysis Q2"
   ]
  },
  {
   "cell_type": "markdown",
   "id": "019fd328",
   "metadata": {},
   "source": [
    "## Investigating the relationship between directors and WorldWide Profit"
   ]
  },
  {
   "cell_type": "code",
   "execution_count": null,
   "id": "5f3b798a",
   "metadata": {},
   "outputs": [],
   "source": [
    "# Create a new dataframe that has worldwide_profit and directors\n",
    "tn_and_imdb_full.info()\n",
    "worldwide_profit_directors_df = tn_and_imdb_full.loc[:, [\"director\",\"primary_title\", \"production_budget\",  \"worldwide_profit\",\"ROI\"\n",
    "                                         , \"release_month\", \"start_year\"]]\n"
   ]
  },
  {
   "cell_type": "code",
   "execution_count": null,
   "id": "d1725d6c",
   "metadata": {},
   "outputs": [],
   "source": [
    "# Group by director and worldwide_profit\n",
    "sorted_ww_profit_directors = worldwide_profit_directors_df.sort_values(\"worldwide_profit\", ascending = False)\n",
    "sorted_ww_profit_directors = sorted_ww_profit_directors.drop_duplicates()\n",
    "top_100_movies_by_wwprofit = sorted_ww_profit_directors.head(100)"
   ]
  },
  {
   "cell_type": "code",
   "execution_count": null,
   "id": "885c2aa9",
   "metadata": {},
   "outputs": [],
   "source": [
    "# Set up theme\n",
    "# Set up Parameters\n",
    "# Create plot variables\n",
    "values = np.array(top_100_movies_by_wwprofit.head(10).director)\n",
    "labels = np.array(top_100_movies_by_wwprofit.head(10).worldwide_profit)\n",
    "sns.set(font_scale = 1.75)\n",
    "clrs = ['grey' if (x != max(values)) else 'blue' for x in values]\n",
    "# Set up plot figure size\n",
    "plt.figure(figsize =(16,15))\n",
    "ax = sns.barplot(y = values, x = labels, palette = clrs)\n",
    "ax.set_title(\"Figure 6.3: Top 10 Directors by Worldwide Profit\", weight = 'bold').set_fontsize('30')\n",
    "ax.set_ylabel(\"Director Name\", fontsize = '25', weight = 'bold')\n",
    "ax.set_xlabel(\"Worldwide Profit ($1M)\", fontsize = '25', weight = 'bold');\n",
    "ax.xaxis.set_major_formatter(ticker.FuncFormatter(lambda x, pos:'{:.4g}'.format(x/10000000)))\n",
    "for bar in ax.patches:\n",
    "    if bar.get_width() < 1150000000:\n",
    "        bar.set_color('grey')\n",
    "    else:\n",
    "        bar.set_color('blue')"
   ]
  },
  {
   "cell_type": "markdown",
   "id": "fc0cfdbc",
   "metadata": {},
   "source": [
    "# Exploratory Data Analysis Q3"
   ]
  },
  {
   "cell_type": "markdown",
   "id": "50c97e8c",
   "metadata": {},
   "source": [
    "## Which genres of movies make the most profit at the box office?"
   ]
  },
  {
   "cell_type": "code",
   "execution_count": null,
   "id": "2d50b9f2",
   "metadata": {},
   "outputs": [],
   "source": [
    "# Investigating the relationship between Genre and Worldwide Profit\n",
    "# Create a smaller dataframe to investigate production cost by genre\n",
    "genre_budget_df = tn_and_imdb.loc[:, [\"multi_genre\",\"primary_title\", \"production_budget\",  \"worldwide_profit\",\"ROI\"\n",
    "                                         , \"release_month\"]]\n",
    "genre_budget_df.head(20)\n"
   ]
  },
  {
   "cell_type": "code",
   "execution_count": null,
   "id": "1d67e1cb",
   "metadata": {},
   "outputs": [],
   "source": [
    "# Visualize correlations\n",
    "#plt.figure(figsize =(14,10))\n",
    "#sns.pairplot(tn_and_imdb)"
   ]
  },
  {
   "cell_type": "code",
   "execution_count": null,
   "id": "833f11c7",
   "metadata": {},
   "outputs": [],
   "source": [
    "# Review correlations on filtered dataset\n",
    "plt.figure(figsize =(14,10))\n",
    "ax = sns.heatmap(filtered_movie_ROI_df.corr(), annot = True, cmap = 'Blues')"
   ]
  },
  {
   "cell_type": "code",
   "execution_count": null,
   "id": "3876a24e",
   "metadata": {},
   "outputs": [],
   "source": [
    "# Explode genres \n",
    "exploded_genre_budget_df = genre_budget_df.explode(\"multi_genre\")\n",
    "exploded_genre_budget_df.head(20)"
   ]
  },
  {
   "cell_type": "code",
   "execution_count": null,
   "id": "86b3477c",
   "metadata": {},
   "outputs": [],
   "source": [
    "# Group by multi_genre by production budget\n",
    "grouped_genre_budget = exploded_genre_budget_df.groupby(\"multi_genre\")[\"production_budget\"].median()\n",
    "grouped_genre_budget.head(20)"
   ]
  },
  {
   "cell_type": "code",
   "execution_count": null,
   "id": "325ea86b",
   "metadata": {},
   "outputs": [],
   "source": [
    "# Create a dataframe from the series\n",
    "grouped_genre_budget_df = grouped_genre_budget.to_frame(name = \"production_budget\").reset_index()\n",
    "grouped_genre_budget_df.head(20)"
   ]
  },
  {
   "cell_type": "code",
   "execution_count": null,
   "id": "033d8ea9",
   "metadata": {
    "scrolled": true
   },
   "outputs": [],
   "source": [
    "# Sort by Production Budget \n",
    "grouped_genre_budget_df.sort_values(\"production_budget\", ascending = False)"
   ]
  },
  {
   "cell_type": "code",
   "execution_count": null,
   "id": "b817b580",
   "metadata": {},
   "outputs": [],
   "source": [
    "# Count unique elements in each column\n",
    "exploded_genre_budget_df.nunique()"
   ]
  },
  {
   "cell_type": "code",
   "execution_count": null,
   "id": "613aa18b",
   "metadata": {},
   "outputs": [],
   "source": [
    "exploded_genre_budget_df.sort_values(\"worldwide_profit\", ascending = False)\n",
    "exploded_genre_budget_df.head()"
   ]
  },
  {
   "cell_type": "code",
   "execution_count": null,
   "id": "7284e0cb",
   "metadata": {},
   "outputs": [],
   "source": [
    "# Group by multi_genre by production budget\n",
    "grouped_genre_ww_profit = exploded_genre_budget_df.groupby(\"multi_genre\")[\"worldwide_profit\"].median()"
   ]
  },
  {
   "cell_type": "code",
   "execution_count": null,
   "id": "bf0ae677",
   "metadata": {},
   "outputs": [],
   "source": [
    "# Create a dataframe from the series\n",
    "grouped_genre_ww_profit_df = grouped_genre_ww_profit.to_frame(name = \"worldwide_profit\").reset_index()\n",
    "grouped_genre_ww_profit_df.head()"
   ]
  },
  {
   "cell_type": "code",
   "execution_count": null,
   "id": "bd0b97b5",
   "metadata": {},
   "outputs": [],
   "source": [
    "# Look at the dataframe sha\n",
    "grouped_genre_ww_profit_df.shape"
   ]
  },
  {
   "cell_type": "code",
   "execution_count": null,
   "id": "1d04086d",
   "metadata": {},
   "outputs": [],
   "source": [
    "grouped_genre_ww_profit_df.info()"
   ]
  },
  {
   "cell_type": "code",
   "execution_count": null,
   "id": "609b301f",
   "metadata": {},
   "outputs": [],
   "source": [
    "# Set up theme\n",
    "#sns.set_theme(style=\"darkgrid\", palette=\"Set2\")\n",
    "# Set up Parameters\n",
    "# Create plot variables\n",
    "values = np.array(grouped_genre_ww_profit_df.multi_genre)\n",
    "labels = np.array(grouped_genre_ww_profit_df.worldwide_profit)/1000000\n",
    "clrs = ['grey' if (x != max(values)) else 'blue' for x in values]\n",
    "\n",
    "# Set up plot figure size\n",
    "plt.figure(figsize =(14,10))\n",
    "ax = sns.barplot(y = values, x = labels, palette = clrs)\n",
    "ax.set_title(\"Figure 6.3: Median Worldwide Profit by Genre\", weight = 'bold').set_fontsize('16')\n",
    "ax.set_ylabel(\"Genre\", fontsize = '14', weight = 'bold')\n",
    "ax.set_xlabel(\"Median World Wide Profit ($1M)\", fontsize = '14', weight = 'bold');\n",
    "for bar in ax.patches:\n",
    "    if bar.get_width() < 45:\n",
    "        bar.set_color('grey')\n",
    "    else:\n",
    "        bar.set_color('blue')"
   ]
  },
  {
   "cell_type": "code",
   "execution_count": null,
   "id": "c6d00b7f",
   "metadata": {},
   "outputs": [],
   "source": [
    "# Group by multi_genre by production budget\n",
    "\n",
    "\n",
    "month_grouped_genre_median_ww_profit = exploded_genre_budget_df.groupby([\"release_month\",\"multi_genre\"])[\"worldwide_profit\"].median().unstack().transpose()"
   ]
  },
  {
   "cell_type": "code",
   "execution_count": null,
   "id": "ac6d0b4f",
   "metadata": {},
   "outputs": [],
   "source": [
    "month_grouped_genre_median_ww_profit.head()"
   ]
  },
  {
   "cell_type": "code",
   "execution_count": null,
   "id": "0adfdd13",
   "metadata": {},
   "outputs": [],
   "source": [
    "\n",
    "month_grouped_genre_median_ww_profit.style.highlight_max(color = \"cyan\", axis = 0)\n"
   ]
  },
  {
   "cell_type": "code",
   "execution_count": null,
   "id": "fd360db4",
   "metadata": {},
   "outputs": [],
   "source": [
    "\n",
    "month_grouped_genre_median_ww_profit[1]"
   ]
  },
  {
   "cell_type": "code",
   "execution_count": null,
   "id": "b72bf6b4",
   "metadata": {},
   "outputs": [],
   "source": [
    "#order = month_grouped_genre_median_ww_profit\n",
    "#g = sns.FacetGrid(month_grouped_genre_median_ww_profit, col = \"month_name\")\n",
    "#g.map(sns.barplot,\"worldwide_profit\", \"multi_genre\")"
   ]
  },
  {
   "cell_type": "code",
   "execution_count": null,
   "id": "4b1e9d10",
   "metadata": {},
   "outputs": [],
   "source": [
    "x = month_grouped_genre_median_ww_profit.index\n",
    "january =  month_grouped_genre_median_ww_profit[1]/100000\n",
    "clrs = ['grey' if (x != max(values)) else 'blue' for x in values]\n",
    "# Set up plot figure size\n",
    "plt.figure(figsize =(14,10))\n",
    "ax = sns.barplot(x = january, y = x ,palette = clrs )\n",
    "ax.set_title(\"Figure 6.3: Median WorldWide Profit By Genre\", weight = 'bold').set_fontsize('12')\n",
    "ax.set_ylabel(\"Genre\", fontsize = '12', weight = 'bold')\n",
    "ax.set_xlabel(\"Median World Wide Profit (Millions of Dollars)\", fontsize = '12', weight = 'bold');\n",
    "for bar in ax.patches:\n",
    "    if bar.get_width() < 600:\n",
    "        bar.set_color('grey')\n",
    "    else:\n",
    "        bar.set_color('blue')\n",
    "        "
   ]
  }
 ],
 "metadata": {
  "kernelspec": {
   "display_name": "Python (learn-env)",
   "language": "python",
   "name": "learn-env"
  },
  "language_info": {
   "codemirror_mode": {
    "name": "ipython",
    "version": 3
   },
   "file_extension": ".py",
   "mimetype": "text/x-python",
   "name": "python",
   "nbconvert_exporter": "python",
   "pygments_lexer": "ipython3",
   "version": "3.8.5"
  },
  "toc": {
   "base_numbering": 1,
   "nav_menu": {},
   "number_sections": true,
   "sideBar": true,
   "skip_h1_title": false,
   "title_cell": "Table of Contents",
   "title_sidebar": "Contents",
   "toc_cell": false,
   "toc_position": {
    "height": "calc(100% - 180px)",
    "left": "10px",
    "top": "150px",
    "width": "164.988px"
   },
   "toc_section_display": true,
   "toc_window_display": true
  },
  "varInspector": {
   "cols": {
    "lenName": 16,
    "lenType": 16,
    "lenVar": 40
   },
   "kernels_config": {
    "python": {
     "delete_cmd_postfix": "",
     "delete_cmd_prefix": "del ",
     "library": "var_list.py",
     "varRefreshCmd": "print(var_dic_list())"
    },
    "r": {
     "delete_cmd_postfix": ") ",
     "delete_cmd_prefix": "rm(",
     "library": "var_list.r",
     "varRefreshCmd": "cat(var_dic_list()) "
    }
   },
   "types_to_exclude": [
    "module",
    "function",
    "builtin_function_or_method",
    "instance",
    "_Feature"
   ],
   "window_display": false
  }
 },
 "nbformat": 4,
 "nbformat_minor": 5
}
